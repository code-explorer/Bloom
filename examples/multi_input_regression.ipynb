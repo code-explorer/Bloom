{
 "cells": [
  {
   "cell_type": "markdown",
   "metadata": {},
   "source": [
    "# Multi Input Regression\n",
    "\n",
    "In this, the model will take multiple inputs and predict a single output."
   ]
  },
  {
   "cell_type": "code",
   "execution_count": 1,
   "metadata": {},
   "outputs": [],
   "source": [
    "import numpy as np\n",
    "import matplotlib.pyplot as plt"
   ]
  },
  {
   "cell_type": "code",
   "execution_count": 2,
   "metadata": {},
   "outputs": [],
   "source": [
    "# Sample data\n",
    "x_1 = np.linspace(0, 10, 100) + np.random.normal(0, 2, 100)\n",
    "x_2 = np.linspace(0, 10, 100) + np.random.normal(0, 2, 100)\n",
    "x_3 = np.linspace(0, 10, 100) + np.random.normal(0, 2, 100)\n",
    "x = np.column_stack((x_1, x_2, x_3))\n",
    "y = -2 * x_1 + -5 * x_2 + 7 * x_3 + np.random.normal(0, 2, 100)"
   ]
  },
  {
   "cell_type": "code",
   "execution_count": 3,
   "metadata": {},
   "outputs": [],
   "source": [
    "# Model\n",
    "def model(x, w):\n",
    "    return np.dot(x, w)"
   ]
  },
  {
   "cell_type": "code",
   "execution_count": 4,
   "metadata": {},
   "outputs": [],
   "source": [
    "w = np.array([1, 2, 3])"
   ]
  },
  {
   "cell_type": "code",
   "execution_count": 5,
   "metadata": {},
   "outputs": [],
   "source": [
    "# Loss function\n",
    "def loss_fn(y, y_pred):\n",
    "    return (y - y_pred)**2"
   ]
  },
  {
   "cell_type": "code",
   "execution_count": 6,
   "metadata": {},
   "outputs": [],
   "source": [
    "lr = 1e-3\n",
    "epochs = 100"
   ]
  },
  {
   "cell_type": "code",
   "execution_count": 7,
   "metadata": {},
   "outputs": [],
   "source": [
    "for epoch in range(epochs):\n",
    "    for x_i, y_i in zip(x, y):\n",
    "        pred = model(x_i, w)\n",
    "        loss = loss_fn(y_i, pred)\n",
    "\n",
    "        dL_dw = 2 * (y_i - pred) * (-x_i)\n",
    "        w = w - lr * dL_dw"
   ]
  },
  {
   "cell_type": "code",
   "execution_count": 8,
   "metadata": {},
   "outputs": [
    {
     "data": {
      "text/plain": [
       "array([-2.06362794, -4.86188425,  7.0881447 ])"
      ]
     },
     "execution_count": 8,
     "metadata": {},
     "output_type": "execute_result"
    }
   ],
   "source": [
    "w"
   ]
  }
 ],
 "metadata": {
  "kernelspec": {
   "display_name": "Python 3.10.6 ('bloom')",
   "language": "python",
   "name": "python3"
  },
  "language_info": {
   "codemirror_mode": {
    "name": "ipython",
    "version": 3
   },
   "file_extension": ".py",
   "mimetype": "text/x-python",
   "name": "python",
   "nbconvert_exporter": "python",
   "pygments_lexer": "ipython3",
   "version": "3.10.6"
  },
  "orig_nbformat": 4,
  "vscode": {
   "interpreter": {
    "hash": "f00137ab51f29bd35e5379a04739088d9ba3cf453e2a9f90f44fee044e703d51"
   }
  }
 },
 "nbformat": 4,
 "nbformat_minor": 2
}
